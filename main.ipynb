{
 "cells": [
  {
   "cell_type": "markdown",
   "metadata": {},
   "source": [
    "# STGCN-PyTorch"
   ]
  },
  {
   "cell_type": "markdown",
   "metadata": {},
   "source": [
    "## Packages"
   ]
  },
  {
   "cell_type": "code",
   "execution_count": 1,
   "metadata": {},
   "outputs": [],
   "source": [
    "import random\n",
    "import torch\n",
    "import numpy as np\n",
    "import pandas as pd\n",
    "from sklearn.preprocessing import StandardScaler\n",
    "from load_data import *\n",
    "from utils import *\n",
    "from stgcn import *"
   ]
  },
  {
   "cell_type": "markdown",
   "metadata": {},
   "source": [
    "## Random Seed"
   ]
  },
  {
   "cell_type": "code",
   "execution_count": 2,
   "metadata": {},
   "outputs": [],
   "source": [
    "torch.manual_seed(2333)\n",
    "torch.cuda.manual_seed(2333)\n",
    "np.random.seed(2333)\n",
    "random.seed(2333)\n",
    "torch.backends.cudnn.deterministic = True"
   ]
  },
  {
   "cell_type": "markdown",
   "metadata": {},
   "source": [
    "## Device"
   ]
  },
  {
   "cell_type": "code",
   "execution_count": 3,
   "metadata": {},
   "outputs": [],
   "source": [
    "device = torch.device(\"cuda\") if torch.cuda.is_available() else torch.device(\"cpu\")"
   ]
  },
  {
   "cell_type": "markdown",
   "metadata": {},
   "source": [
    "## File Path"
   ]
  },
  {
   "cell_type": "code",
   "execution_count": 4,
   "metadata": {},
   "outputs": [],
   "source": [
    "matrix_path = \"dataset/W_228.csv\"\n",
    "data_path = \"dataset/V_228.csv\"\n",
    "save_path = \"save/model.pt\""
   ]
  },
  {
   "cell_type": "markdown",
   "metadata": {},
   "source": [
    "## Parameters"
   ]
  },
  {
   "cell_type": "code",
   "execution_count": 5,
   "metadata": {},
   "outputs": [],
   "source": [
    "day_slot = 288\n",
    "n_train, n_val, n_test = 34, 5, 5"
   ]
  },
  {
   "cell_type": "code",
   "execution_count": 6,
   "metadata": {},
   "outputs": [],
   "source": [
    "n_his = 12\n",
    "n_pred = 3\n",
    "n_route = 228\n",
    "Ks, Kt = 3, 3\n",
    "blocks = [[1, 32, 64], [64, 32, 128]]\n",
    "drop_prob = 0"
   ]
  },
  {
   "cell_type": "code",
   "execution_count": 7,
   "metadata": {},
   "outputs": [],
   "source": [
    "batch_size = 50\n",
    "epochs = 50\n",
    "lr = 1e-3"
   ]
  },
  {
   "cell_type": "markdown",
   "metadata": {},
   "source": [
    "## Graph"
   ]
  },
  {
   "cell_type": "code",
   "execution_count": 8,
   "metadata": {},
   "outputs": [],
   "source": [
    "W = load_matrix(matrix_path)\n",
    "L = scaled_laplacian(W)\n",
    "Lk = cheb_poly(L, Ks)\n",
    "Lk = torch.Tensor(Lk.astype(np.float32)).to(device)"
   ]
  },
  {
   "cell_type": "markdown",
   "metadata": {},
   "source": [
    "## Standardization"
   ]
  },
  {
   "cell_type": "code",
   "execution_count": 9,
   "metadata": {},
   "outputs": [],
   "source": [
    "train, val, test = load_data(data_path, n_train * day_slot, n_val * day_slot)\n",
    "scaler = StandardScaler()\n",
    "train = scaler.fit_transform(train)\n",
    "val = scaler.transform(val)\n",
    "test = scaler.transform(test)"
   ]
  },
  {
   "cell_type": "markdown",
   "metadata": {},
   "source": [
    "## Transform Data"
   ]
  },
  {
   "cell_type": "code",
   "execution_count": 10,
   "metadata": {},
   "outputs": [],
   "source": [
    "x_train, y_train = data_transform(train, n_his, n_pred, day_slot, device)\n",
    "x_val, y_val = data_transform(val, n_his, n_pred, day_slot, device)\n",
    "x_test, y_test = data_transform(test, n_his, n_pred, day_slot, device)"
   ]
  },
  {
   "cell_type": "markdown",
   "metadata": {},
   "source": [
    "## DataLoader"
   ]
  },
  {
   "cell_type": "code",
   "execution_count": 11,
   "metadata": {},
   "outputs": [],
   "source": [
    "train_data = torch.utils.data.TensorDataset(x_train, y_train)\n",
    "train_iter = torch.utils.data.DataLoader(train_data, batch_size, shuffle=True)\n",
    "val_data = torch.utils.data.TensorDataset(x_val, y_val)\n",
    "val_iter = torch.utils.data.DataLoader(val_data, batch_size)\n",
    "test_data = torch.utils.data.TensorDataset(x_test, y_test)\n",
    "test_iter = torch.utils.data.DataLoader(test_data, batch_size)"
   ]
  },
  {
   "cell_type": "markdown",
   "metadata": {},
   "source": [
    "## Loss & Model & Optimizer"
   ]
  },
  {
   "cell_type": "code",
   "execution_count": 12,
   "metadata": {},
   "outputs": [],
   "source": [
    "loss = nn.MSELoss()\n",
    "model = STGCN(Ks, Kt, blocks, n_his, n_route, Lk, drop_prob).to(device)\n",
    "optimizer = torch.optim.RMSprop(model.parameters(), lr=lr)"
   ]
  },
  {
   "cell_type": "markdown",
   "metadata": {},
   "source": [
    "## LR Scheduler"
   ]
  },
  {
   "cell_type": "code",
   "execution_count": 13,
   "metadata": {},
   "outputs": [],
   "source": [
    "scheduler = torch.optim.lr_scheduler.StepLR(optimizer, step_size=5, gamma=0.7)"
   ]
  },
  {
   "cell_type": "markdown",
   "metadata": {},
   "source": [
    "## Training & Save Model"
   ]
  },
  {
   "cell_type": "code",
   "execution_count": 14,
   "metadata": {},
   "outputs": [
    {
     "name": "stdout",
     "output_type": "stream",
     "text": [
      "epoch 1 , train loss: 0.2644613843080106 , validation loss: 0.20034417330566115\n",
      "epoch 2 , train loss: 0.1662462924704269 , validation loss: 0.19112858627616924\n",
      "epoch 3 , train loss: 0.1562302574521741 , validation loss: 0.1556333677340163\n",
      "epoch 4 , train loss: 0.15129567798388624 , validation loss: 0.15211913317278788\n",
      "epoch 5 , train loss: 0.14658082330166755 , validation loss: 0.152946099339828\n",
      "epoch 6 , train loss: 0.1374216084606456 , validation loss: 0.15630515675692663\n",
      "epoch 7 , train loss: 0.13537886153831405 , validation loss: 0.1514936165109168\n",
      "epoch 8 , train loss: 0.13402323021416299 , validation loss: 0.15609874812899716\n",
      "epoch 9 , train loss: 0.132631691766942 , validation loss: 0.15291569156259516\n",
      "epoch 10 , train loss: 0.1307523751758541 , validation loss: 0.1623021304661775\n",
      "epoch 11 , train loss: 0.12581014415803463 , validation loss: 0.14387005049544965\n",
      "epoch 12 , train loss: 0.12512538763952388 , validation loss: 0.1510266454441704\n",
      "epoch 13 , train loss: 0.123970466634333 , validation loss: 0.1482546145137209\n",
      "epoch 14 , train loss: 0.12319225157795417 , validation loss: 0.14746656108402859\n",
      "epoch 15 , train loss: 0.12223109516873795 , validation loss: 0.14555791810318067\n",
      "epoch 16 , train loss: 0.11903878233562268 , validation loss: 0.14763056293782525\n",
      "epoch 17 , train loss: 0.1186287668067762 , validation loss: 0.15060269008696514\n",
      "epoch 18 , train loss: 0.11774337995187978 , validation loss: 0.14482144712314118\n",
      "epoch 19 , train loss: 0.11695253029273732 , validation loss: 0.14174750988392065\n",
      "epoch 20 , train loss: 0.11639596601030815 , validation loss: 0.14282977136436606\n",
      "epoch 21 , train loss: 0.11420818101238826 , validation loss: 0.1396389335774592\n",
      "epoch 22 , train loss: 0.11377283112942123 , validation loss: 0.14123124733947925\n",
      "epoch 23 , train loss: 0.1133280823326331 , validation loss: 0.14212995748559054\n",
      "epoch 24 , train loss: 0.11271796376312838 , validation loss: 0.14162336680086424\n",
      "epoch 25 , train loss: 0.11201721492686104 , validation loss: 0.14231974806935682\n",
      "epoch 26 , train loss: 0.11074174699537895 , validation loss: 0.14029231784443785\n",
      "epoch 27 , train loss: 0.11029022795453303 , validation loss: 0.14144352244308395\n",
      "epoch 28 , train loss: 0.1098642374867531 , validation loss: 0.14335402155662105\n",
      "epoch 29 , train loss: 0.10944587091594205 , validation loss: 0.14422453613611905\n",
      "epoch 30 , train loss: 0.10902702265501842 , validation loss: 0.1412465144628591\n",
      "epoch 31 , train loss: 0.10801180184188192 , validation loss: 0.14089932937147845\n",
      "epoch 32 , train loss: 0.1076767446066162 , validation loss: 0.1421115069792871\n",
      "epoch 33 , train loss: 0.10738874821671349 , validation loss: 0.14228642737343364\n",
      "epoch 34 , train loss: 0.10703737885815588 , validation loss: 0.14227033640346387\n",
      "epoch 35 , train loss: 0.10672898119025191 , validation loss: 0.14096938752073007\n",
      "epoch 36 , train loss: 0.10608608476232183 , validation loss: 0.14192879062662594\n",
      "epoch 37 , train loss: 0.1058084389195646 , validation loss: 0.14288104230361262\n",
      "epoch 38 , train loss: 0.10560900851054067 , validation loss: 0.14204020174152224\n",
      "epoch 39 , train loss: 0.10534224713108425 , validation loss: 0.14208580470596352\n",
      "epoch 40 , train loss: 0.1051030445599208 , validation loss: 0.1421868566858725\n",
      "epoch 41 , train loss: 0.1046545573935303 , validation loss: 0.142626366448881\n",
      "epoch 42 , train loss: 0.10446504999340835 , validation loss: 0.1426674649391296\n",
      "epoch 43 , train loss: 0.10430669509587803 , validation loss: 0.14228139713025875\n",
      "epoch 44 , train loss: 0.10415866295057287 , validation loss: 0.142293537429867\n",
      "epoch 45 , train loss: 0.10396830870511195 , validation loss: 0.1431541833482737\n",
      "epoch 46 , train loss: 0.10364914995635359 , validation loss: 0.1425435478071662\n",
      "epoch 47 , train loss: 0.10350681819300019 , validation loss: 0.1428538847333976\n",
      "epoch 48 , train loss: 0.10340978564936852 , validation loss: 0.14268755106540926\n",
      "epoch 49 , train loss: 0.10327948612421303 , validation loss: 0.14253883235102152\n",
      "epoch 50 , train loss: 0.10316204037013459 , validation loss: 0.14310132914705434\n"
     ]
    }
   ],
   "source": [
    "min_val_loss = np.inf\n",
    "for epoch in range(1, epochs + 1):\n",
    "    l_sum, n = 0.0, 0\n",
    "    model.train()\n",
    "    for x, y in train_iter:\n",
    "        y_pred = model(x).view(len(x), -1)\n",
    "        l = loss(y_pred, y)\n",
    "        optimizer.zero_grad()\n",
    "        l.backward()\n",
    "        optimizer.step()\n",
    "        l_sum += l.item() * y.shape[0]\n",
    "        n += y.shape[0]\n",
    "    scheduler.step()\n",
    "    val_loss = evaluate_model(model, loss, val_iter)\n",
    "    if val_loss < min_val_loss:\n",
    "        min_val_loss = val_loss\n",
    "        torch.save(model.state_dict(), save_path)\n",
    "    print(\"epoch\", epoch, \", train loss:\", l_sum / n, \", validation loss:\", val_loss)"
   ]
  },
  {
   "cell_type": "markdown",
   "metadata": {},
   "source": [
    "## Load Best Model"
   ]
  },
  {
   "cell_type": "code",
   "execution_count": 15,
   "metadata": {},
   "outputs": [
    {
     "data": {
      "text/plain": [
       "<All keys matched successfully>"
      ]
     },
     "execution_count": 15,
     "metadata": {},
     "output_type": "execute_result"
    }
   ],
   "source": [
    "best_model = STGCN(Ks, Kt, blocks, n_his, n_route, Lk, drop_prob).to(device)\n",
    "best_model.load_state_dict(torch.load(save_path))"
   ]
  },
  {
   "cell_type": "markdown",
   "metadata": {},
   "source": [
    "## Evaluation"
   ]
  },
  {
   "cell_type": "code",
   "execution_count": 16,
   "metadata": {},
   "outputs": [
    {
     "name": "stdout",
     "output_type": "stream",
     "text": [
      "test loss: 0.1341494797953289 \n",
      "MAE: 2.211887174500502 , MAPE: 0.051839867915941876 , RMSE: 3.9712152254418127\n"
     ]
    }
   ],
   "source": [
    "l = evaluate_model(best_model, loss, test_iter)\n",
    "MAE, MAPE, RMSE = evaluate_metric(best_model, test_iter, scaler)\n",
    "print(\"test loss:\", l, \"\\nMAE:\", MAE, \", MAPE:\", MAPE, \", RMSE:\", RMSE)"
   ]
  }
 ],
 "metadata": {
  "kernelspec": {
   "display_name": "Python 3",
   "language": "python",
   "name": "python3"
  },
  "language_info": {
   "codemirror_mode": {
    "name": "ipython",
    "version": 3
   },
   "file_extension": ".py",
   "mimetype": "text/x-python",
   "name": "python",
   "nbconvert_exporter": "python",
   "pygments_lexer": "ipython3",
   "version": "3.6.8"
  }
 },
 "nbformat": 4,
 "nbformat_minor": 4
}
